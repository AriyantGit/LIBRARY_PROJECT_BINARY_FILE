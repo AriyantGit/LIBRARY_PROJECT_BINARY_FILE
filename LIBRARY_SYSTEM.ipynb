{
  "nbformat": 4,
  "nbformat_minor": 0,
  "metadata": {
    "colab": {
      "provenance": [],
      "authorship_tag": "ABX9TyMVpJLRkDx7h6iGgLT7d5Ef",
      "include_colab_link": true
    },
    "kernelspec": {
      "name": "python3",
      "display_name": "Python 3"
    },
    "language_info": {
      "name": "python"
    }
  },
  "cells": [
    {
      "cell_type": "markdown",
      "metadata": {
        "id": "view-in-github",
        "colab_type": "text"
      },
      "source": [
        "<a href=\"https://colab.research.google.com/github/AriyantGit/LIBRARY_PROJECT_BINARY_FILE/blob/main/LIBRARY_SYSTEM.ipynb\" target=\"_parent\"><img src=\"https://colab.research.google.com/assets/colab-badge.svg\" alt=\"Open In Colab\"/></a>"
      ]
    },
    {
      "cell_type": "code",
      "execution_count": 1,
      "metadata": {
        "id": "IZ8f8K90e67m"
      },
      "outputs": [],
      "source": [
        "import pickle\n",
        "import os.path\n",
        "from datetime import date\n",
        "from prettytable import PrettyTable"
      ]
    },
    {
      "cell_type": "code",
      "source": [
        "def file_exists_or_not():\n",
        "  path = './books_details.dat'\n",
        "  check_file = os.path.isfile(path)\n",
        "  return check_file"
      ],
      "metadata": {
        "id": "3SVMblPmhYRC"
      },
      "execution_count": 2,
      "outputs": []
    },
    {
      "cell_type": "code",
      "source": [
        "def Book_Id_Generator():\n",
        "\n",
        "  max_book_id=1\n",
        "  if(file_exists_or_not()):\n",
        "    fileptr=open(\"books_details.dat\",\"rb\")\n",
        "    try:\n",
        "      while True:\n",
        "        book_content=pickle.load(fileptr)\n",
        "        if(book_content[\"book_id\"]>=max_book_id):\n",
        "          max_book_id=book_content[\"book_id\"]+1\n",
        "    except EOFError:\n",
        "      fileptr.close()\n",
        "  return max_book_id\n"
      ],
      "metadata": {
        "id": "FJpgtfXegMS-"
      },
      "execution_count": 3,
      "outputs": []
    },
    {
      "cell_type": "code",
      "source": [
        "Book_Id_Generator()"
      ],
      "metadata": {
        "colab": {
          "base_uri": "https://localhost:8080/"
        },
        "id": "KUQKvkfxg9By",
        "outputId": "296fd92e-ca07-44df-bd9c-ecdbb4c2d6d5"
      },
      "execution_count": null,
      "outputs": [
        {
          "output_type": "execute_result",
          "data": {
            "text/plain": [
              "2"
            ]
          },
          "metadata": {},
          "execution_count": 29
        }
      ]
    },
    {
      "cell_type": "code",
      "source": [
        "def book_entry():\n",
        "  fileptr=open(\"books_details.dat\",\"ab\")\n",
        "  book={}\n",
        "  book[\"book_id\"]=Book_Id_Generator()\n",
        "  book[\"book_name\"]=input(\"Enter Book Name: \").upper()\n",
        "  book[\"ISBN\"]=input(\"Enter Book ISBN: \")\n",
        "  book[\"author\"]=input(\"Enter Book Author Name: \").upper()\n",
        "  book[\"Category\"]=input(\"Enter Book Category: \").upper()\n",
        "  book[\"book_unit\"]=int(input(\"No of Books Entry: \"))\n",
        "  book[\"Date_of_entry\"]=date.today()\n",
        "  pickle.dump(book,fileptr)\n",
        "  print(f\"{book['book_id']},{book['book_name']} Entry Successful\")"
      ],
      "metadata": {
        "id": "8QwKiOG1e9F-"
      },
      "execution_count": 4,
      "outputs": []
    },
    {
      "cell_type": "code",
      "source": [
        "book_entry()"
      ],
      "metadata": {
        "colab": {
          "base_uri": "https://localhost:8080/"
        },
        "id": "-MCkjmWPiSem",
        "outputId": "c1e4a2d2-cd43-40b5-f38c-161fd220f9d8"
      },
      "execution_count": 77,
      "outputs": [
        {
          "output_type": "stream",
          "name": "stdout",
          "text": [
            "Enter Book Name: ai\n",
            "Enter Book ISBN: 112345\n",
            "Enter Book Author Name: intel\n",
            "Enter Book Category: text\n",
            "No of Books Entry: 56\n",
            "2,AI Entry Successful\n"
          ]
        }
      ]
    },
    {
      "cell_type": "code",
      "source": [
        "def book_details():\n",
        "  if(file_exists_or_not()):\n",
        "    fileptr=open(\"books_details.dat\",\"rb\")\n",
        "    myTable = PrettyTable([\"Book Id\", \"Book Name\", \"Author Name\", \"Category\",\"ISBN No\"])\n",
        "    try:\n",
        "      while True:\n",
        "        book_content=pickle.load(fileptr)\n",
        "        #print(book_content)\n",
        "        myTable.add_row([book_content[\"book_id\"],book_content[\"book_name\"],book_content[\"author\"],book_content[\"Category\"],book_content[\"ISBN\"]])\n",
        "    except EOFError:\n",
        "      print(myTable)\n",
        "      fileptr.close()\n"
      ],
      "metadata": {
        "id": "_djhpmD1iUuu"
      },
      "execution_count": 6,
      "outputs": []
    },
    {
      "cell_type": "code",
      "source": [
        "def book_search(book_id):\n",
        "  if(file_exists_or_not()):\n",
        "    fileptr=open(\"books_details.dat\",\"rb\")\n",
        "    myTable = PrettyTable([\"Book Id\", \"Book Name\", \"Author Name\", \"Category\",\"ISBN No\"])\n",
        "    found=0\n",
        "    try:\n",
        "      while True:\n",
        "        book_content=pickle.load(fileptr)\n",
        "        #print(book_content)\n",
        "        if(book_content[\"book_id\"]==book_id):\n",
        "          myTable.add_row([book_content[\"book_id\"],book_content[\"book_name\"],book_content[\"author\"],book_content[\"Category\"],book_content[\"ISBN\"]])\n",
        "          found=1\n",
        "    except EOFError:\n",
        "      fileptr.close()\n",
        "    if(found==0):\n",
        "      print(\"Data Not Found\")\n",
        "    elif(found==1):\n",
        "      print(myTable)"
      ],
      "metadata": {
        "id": "PE9RBZfHFm6T"
      },
      "execution_count": 19,
      "outputs": []
    },
    {
      "cell_type": "code",
      "source": [
        "book_details()"
      ],
      "metadata": {
        "colab": {
          "base_uri": "https://localhost:8080/"
        },
        "id": "x5LfWpYLo4PW",
        "outputId": "e8ed164c-3cf5-41f5-a406-e24cf662dab0"
      },
      "execution_count": 71,
      "outputs": [
        {
          "output_type": "stream",
          "name": "stdout",
          "text": [
            "+---------+--------------+--------------+----------+---------+\n",
            "| Book Id |  Book Name   | Author Name  | Category | ISBN No |\n",
            "+---------+--------------+--------------+----------+---------+\n",
            "|    1    | COMP SCIENCE | SUMITA ARORA |   TEXT   |  11234  |\n",
            "+---------+--------------+--------------+----------+---------+\n"
          ]
        }
      ]
    },
    {
      "cell_type": "code",
      "source": [
        "book_search(1)"
      ],
      "metadata": {
        "colab": {
          "base_uri": "https://localhost:8080/"
        },
        "id": "fUztPTBsGMfK",
        "outputId": "295631f2-6948-47c3-87a1-bc8d80d12953"
      },
      "execution_count": 75,
      "outputs": [
        {
          "output_type": "stream",
          "name": "stdout",
          "text": [
            "+---------+------------------+--------------+-----------------+---------+\n",
            "| Book Id |    Book Name     | Author Name  |     Category    | ISBN No |\n",
            "+---------+------------------+--------------+-----------------+---------+\n",
            "|    1    | COMPUTER SCIENCE | SUMITA ARORA | NCERT TEXT BOOK |  11234  |\n",
            "+---------+------------------+--------------+-----------------+---------+\n"
          ]
        }
      ]
    },
    {
      "cell_type": "code",
      "source": [
        "def book_update():\n",
        "  book_details=[]\n",
        "  if(file_exists_or_not()):\n",
        "    #appending data in  TEMP list book_details\n",
        "    fileptr=open(\"books_details.dat\",\"rb\")\n",
        "    try:\n",
        "      while True:\n",
        "        book_content=pickle.load(fileptr)\n",
        "        book_details.append(book_content)\n",
        "    except EOFError:\n",
        "      fileptr.close()\n",
        "    #Updating data in book_details list\n",
        "    book_id=int(input(\"Enter Book id to update\"))\n",
        "    found=0\n",
        "    for book in book_details:\n",
        "      if(book[\"book_id\"])==book_id:\n",
        "        found=1\n",
        "        print(\"Old Book Details\")\n",
        "        book_search(book_id)\n",
        "        book[\"book_name\"]=input(\"Enter Book Name: \").upper()\n",
        "        book[\"ISBN\"]=input(\"Enter Book ISBN: \")\n",
        "        book[\"author\"]=input(\"Enter Book Author Name: \").upper()\n",
        "        book[\"Category\"]=input(\"Enter Book Category: \").upper()\n",
        "        book[\"book_unit\"]=int(input(\"No of Books Entry: \"))\n",
        "        book[\"Date_of_entry\"]=date.today()\n",
        "\n",
        "    if(found==0):\n",
        "        print(\"*\"*30)\n",
        "        print(\"Book Not found\")\n",
        "    elif(found==1):\n",
        "      fileptr1=open(\"books_details.dat\",\"wb\")\n",
        "      for i in book_details:\n",
        "        #print(i)\n",
        "        pickle.dump(i,fileptr1)\n",
        "      print(\"Update Succesfully\")\n",
        "      book_search(book_id)\n",
        "      fileptr1.close()"
      ],
      "metadata": {
        "id": "YPwoW5iJo6SO"
      },
      "execution_count": 78,
      "outputs": []
    },
    {
      "cell_type": "code",
      "source": [
        "book_update()"
      ],
      "metadata": {
        "colab": {
          "base_uri": "https://localhost:8080/"
        },
        "id": "z1PmWOfFFBjM",
        "outputId": "3c869f60-3968-44d3-c183-e2be607213c1"
      },
      "execution_count": 63,
      "outputs": [
        {
          "output_type": "stream",
          "name": "stdout",
          "text": [
            "Enter Book id to update1\n",
            "Old Book Details\n",
            "+---------+-----------+-------------+----------+---------+\n",
            "| Book Id | Book Name | Author Name | Category | ISBN No |\n",
            "+---------+-----------+-------------+----------+---------+\n",
            "|    1    |     CS    |      SS     |    TE    |    11   |\n",
            "+---------+-----------+-------------+----------+---------+\n",
            "Enter Book Name: computer sc\n",
            "Enter Book ISBN: sumita\n",
            "Enter Book Author Name: sumita\n",
            "Enter Book Category: text\n",
            "No of Books Entry: 12\n",
            "Update Succesfully\n"
          ]
        }
      ]
    },
    {
      "cell_type": "code",
      "source": [
        "def book_update_seek():\n",
        "  book_details=[]\n",
        "  if(file_exists_or_not()):\n",
        "    #appending data in  TEMP list book_details\n",
        "    book_id=int(input(\"Enter Book id to update\"))\n",
        "    found=0\n",
        "    fileptr=open(\"books_details.dat\",\"rb+\")\n",
        "    try:\n",
        "      while True:\n",
        "        pos=fileptr.tell()\n",
        "        book=pickle.load(fileptr)\n",
        "\n",
        "        if(book[\"book_id\"]==book_id):\n",
        "          found=1\n",
        "          print(\"Old Book Details\")\n",
        "          book_search(book_id)\n",
        "          book[\"book_name\"]=input(\"Enter Book Name: \").upper()\n",
        "          book[\"ISBN\"]=input(\"Enter Book ISBN: \")\n",
        "          book[\"author\"]=input(\"Enter Book Author Name: \").upper()\n",
        "          book[\"Category\"]=input(\"Enter Book Category: \").upper()\n",
        "          book[\"book_unit\"]=int(input(\"No of Books Entry: \"))\n",
        "          book[\"Date_of_entry\"]=date.today()\n",
        "          fileptr.seek(pos)\n",
        "          pickle.dump(book,fileptr)\n",
        "    except EOFError:\n",
        "      fileptr.close()\n",
        "  if(found==0):\n",
        "    print(\"Data Not Found\")\n",
        "  elif(found==1):\n",
        "    print(\"Update Succesfully\")\n",
        "    book_search(book_id)\n",
        ""
      ],
      "metadata": {
        "id": "djjtR55dFDIj"
      },
      "execution_count": 76,
      "outputs": []
    },
    {
      "cell_type": "code",
      "source": [
        "book_update_seek()"
      ],
      "metadata": {
        "colab": {
          "base_uri": "https://localhost:8080/"
        },
        "id": "1XfBJrO_NjO_",
        "outputId": "eeda3736-115e-4419-9454-3bedf6dccc48"
      },
      "execution_count": 79,
      "outputs": [
        {
          "output_type": "stream",
          "name": "stdout",
          "text": [
            "Enter Book id to update2\n",
            "Old Book Details\n",
            "+---------+-----------+-------------+----------+---------+\n",
            "| Book Id | Book Name | Author Name | Category | ISBN No |\n",
            "+---------+-----------+-------------+----------+---------+\n",
            "|    2    |     AI    |    INTEL    |   TEXT   |  112345 |\n",
            "+---------+-----------+-------------+----------+---------+\n",
            "Enter Book Name: artificial inteligence\n",
            "Enter Book ISBN: 12345\n",
            "Enter Book Author Name: intel\n",
            "Enter Book Category: text\n",
            "No of Books Entry: 56\n",
            "Update Succesfully\n",
            "+---------+------------------------+-------------+----------+---------+\n",
            "| Book Id |       Book Name        | Author Name | Category | ISBN No |\n",
            "+---------+------------------------+-------------+----------+---------+\n",
            "|    2    | ARTIFICIAL INTELIGENCE |    INTEL    |   TEXT   |  12345  |\n",
            "+---------+------------------------+-------------+----------+---------+\n"
          ]
        }
      ]
    },
    {
      "cell_type": "code",
      "source": [
        "def book_delete():\n",
        "  book_details=[]\n",
        "  if(file_exists_or_not()):\n",
        "    #appending data in  TEMP list book_details\n",
        "    fileptr=open(\"books_details.dat\",\"rb\")\n",
        "    book_id=int(input(\"Enter Book id to Delete\"))\n",
        "    found=0\n",
        "    try:\n",
        "      while True:\n",
        "        book=pickle.load(fileptr)\n",
        "        if(book[\"book_id\"])==book_id:\n",
        "          found=1\n",
        "          continue\n",
        "        else:\n",
        "          book_details.append(book)\n",
        "    except EOFError:\n",
        "      fileptr.close()\n",
        "    if(found==0):\n",
        "        print(\"*\"*30)\n",
        "        print(\"Book Not found\")\n",
        "    elif(found==1):\n",
        "      fileptr1=open(\"books_details.dat\",\"wb\")\n",
        "      for i in book_details:\n",
        "        #print(i)\n",
        "        pickle.dump(i,fileptr1)\n",
        "      print(\"Delete Succesfully\")\n",
        "      print(book_id,\" delete sucssfully\")\n",
        "      fileptr1.close()"
      ],
      "metadata": {
        "id": "CltX45jsNtxK"
      },
      "execution_count": 88,
      "outputs": []
    },
    {
      "cell_type": "code",
      "source": [
        "book_details()"
      ],
      "metadata": {
        "colab": {
          "base_uri": "https://localhost:8080/"
        },
        "id": "JiBL-ad4RIfL",
        "outputId": "0088331d-01c4-4abf-b86c-92ba6ac02aa7"
      },
      "execution_count": 87,
      "outputs": [
        {
          "output_type": "stream",
          "name": "stdout",
          "text": [
            "+---------+------------------------+-------------+----------+---------+\n",
            "| Book Id |       Book Name        | Author Name | Category | ISBN No |\n",
            "+---------+------------------------+-------------+----------+---------+\n",
            "|    2    | ARTIFICIAL INTELIGENCE |    INTEL    |   TEXT   |  12345  |\n",
            "+---------+------------------------+-------------+----------+---------+\n"
          ]
        }
      ]
    },
    {
      "cell_type": "code",
      "source": [
        "book_delete()"
      ],
      "metadata": {
        "colab": {
          "base_uri": "https://localhost:8080/"
        },
        "id": "yaqVL-LJRTgz",
        "outputId": "4c7bbcc9-4fdb-4d97-ef9a-326103e8cceb"
      },
      "execution_count": 86,
      "outputs": [
        {
          "output_type": "stream",
          "name": "stdout",
          "text": [
            "Enter Book id to Delete1\n",
            "Delete Succesfully\n",
            "Data Not Found\n"
          ]
        }
      ]
    },
    {
      "cell_type": "code",
      "source": [],
      "metadata": {
        "id": "oB1Ner_FRZBD"
      },
      "execution_count": null,
      "outputs": []
    }
  ]
}