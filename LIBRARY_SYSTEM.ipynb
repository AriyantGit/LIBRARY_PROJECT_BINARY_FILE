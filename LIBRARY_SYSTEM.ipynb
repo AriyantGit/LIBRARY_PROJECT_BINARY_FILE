{
  "nbformat": 4,
  "nbformat_minor": 0,
  "metadata": {
    "colab": {
      "provenance": [],
      "authorship_tag": "ABX9TyMDWrwxnuD9rAJCBaSIMm/P",
      "include_colab_link": true
    },
    "kernelspec": {
      "name": "python3",
      "display_name": "Python 3"
    },
    "language_info": {
      "name": "python"
    }
  },
  "cells": [
    {
      "cell_type": "markdown",
      "metadata": {
        "id": "view-in-github",
        "colab_type": "text"
      },
      "source": [
        "<a href=\"https://colab.research.google.com/github/AriyantGit/LIBRARY_PROJECT_BINARY_FILE/blob/main/LIBRARY_SYSTEM.ipynb\" target=\"_parent\"><img src=\"https://colab.research.google.com/assets/colab-badge.svg\" alt=\"Open In Colab\"/></a>"
      ]
    },
    {
      "cell_type": "code",
      "execution_count": 32,
      "metadata": {
        "id": "IZ8f8K90e67m"
      },
      "outputs": [],
      "source": [
        "import pickle\n",
        "import os.path\n",
        "from datetime import date\n",
        "from prettytable import PrettyTable"
      ]
    },
    {
      "cell_type": "code",
      "source": [
        "def file_exists_or_not():\n",
        "  path = './books_details.dat'\n",
        "  check_file = os.path.isfile(path)\n",
        "  return check_file"
      ],
      "metadata": {
        "id": "3SVMblPmhYRC"
      },
      "execution_count": 18,
      "outputs": []
    },
    {
      "cell_type": "code",
      "source": [
        "def Book_Id_Generator():\n",
        "\n",
        "  max_book_id=1\n",
        "  if(file_exists_or_not()):\n",
        "    fileptr=open(\"books_details.dat\",\"rb\")\n",
        "    try:\n",
        "      while True:\n",
        "        book_content=pickle.load(fileptr)\n",
        "        if(book_content[\"book_id\"]>=max_book_id):\n",
        "          max_book_id=book_content[\"book_id\"]+1\n",
        "    except EOFError:\n",
        "      fileptr.close()\n",
        "  return max_book_id\n",
        ""
      ],
      "metadata": {
        "id": "FJpgtfXegMS-"
      },
      "execution_count": 28,
      "outputs": []
    },
    {
      "cell_type": "code",
      "source": [
        "Book_Id_Generator()"
      ],
      "metadata": {
        "colab": {
          "base_uri": "https://localhost:8080/"
        },
        "id": "KUQKvkfxg9By",
        "outputId": "296fd92e-ca07-44df-bd9c-ecdbb4c2d6d5"
      },
      "execution_count": 29,
      "outputs": [
        {
          "output_type": "execute_result",
          "data": {
            "text/plain": [
              "2"
            ]
          },
          "metadata": {},
          "execution_count": 29
        }
      ]
    },
    {
      "cell_type": "code",
      "source": [
        "def book_entry():\n",
        "  fileptr=open(\"books_details.dat\",\"ab\")\n",
        "  book={}\n",
        "  book[\"book_id\"]=Book_Id_Generator()\n",
        "  book[\"book_name\"]=input(\"Enter Book Name: \").upper()\n",
        "  book[\"ISBN\"]=input(\"Enter Book ISBN: \")\n",
        "  book[\"author\"]=input(\"Enter Book Author Name: \").upper()\n",
        "  book[\"Category\"]=input(\"Enter Book Category: \").upper()\n",
        "  book[\"book_unit\"]=int(input(\"No of Books Entry: \"))\n",
        "  book[\"Date_of_entry\"]=date.today()\n",
        "  pickle.dump(book,fileptr)\n",
        "  print(f\"{book['book_id']},{book['book_name']} Entry Successful\")"
      ],
      "metadata": {
        "id": "8QwKiOG1e9F-"
      },
      "execution_count": 42,
      "outputs": []
    },
    {
      "cell_type": "code",
      "source": [
        "book_entry()"
      ],
      "metadata": {
        "colab": {
          "base_uri": "https://localhost:8080/"
        },
        "id": "-MCkjmWPiSem",
        "outputId": "c5a54b48-75d3-49c8-d460-0751f4a923a2"
      },
      "execution_count": 41,
      "outputs": [
        {
          "output_type": "stream",
          "name": "stdout",
          "text": [
            "Enter Book Name: AI\n",
            "Enter Book ISBN: 123456\n",
            "Enter Book Author Name: NCERT\n",
            "Enter Book Category: ARTIFICIAL INTELIGENCE\n",
            "No of Books Entry: 56\n",
            "4\t,AI Entry Successful\n"
          ]
        }
      ]
    },
    {
      "cell_type": "code",
      "source": [
        "def book_details():\n",
        "  if(file_exists_or_not()):\n",
        "    fileptr=open(\"books_details.dat\",\"rb\")\n",
        "    myTable = PrettyTable([\"Book Id\", \"Book Name\", \"Author Name\", \"Category\",\"ISBN No\"])\n",
        "    try:\n",
        "      while True:\n",
        "        book_content=pickle.load(fileptr)\n",
        "        #print(book_content)\n",
        "        myTable.add_row([book_content[\"book_id\"],book_content[\"book_name\"],book_content[\"author\"],book_content[\"Category\"],book_content[\"ISBN\"]])\n",
        "    except EOFError:\n",
        "      print(myTable)\n",
        "      fileptr.close()\n",
        ""
      ],
      "metadata": {
        "id": "_djhpmD1iUuu"
      },
      "execution_count": 36,
      "outputs": []
    },
    {
      "cell_type": "code",
      "source": [
        "book_details()"
      ],
      "metadata": {
        "colab": {
          "base_uri": "https://localhost:8080/"
        },
        "id": "x5LfWpYLo4PW",
        "outputId": "2a898d54-5e42-4aa4-d0f5-63def35f7de9"
      },
      "execution_count": 43,
      "outputs": [
        {
          "output_type": "stream",
          "name": "stdout",
          "text": [
            "+---------+------------------+--------------+------------------------+----------+\n",
            "| Book Id |    Book Name     | Author Name  |        Category        | ISBN No  |\n",
            "+---------+------------------+--------------+------------------------+----------+\n",
            "|    1    | Computer Science | SUmita arora |     reference book     |  123456  |\n",
            "|    2    |       MATH       |  aryabhatta  |     math text book     | 12345678 |\n",
            "|    3    | COMPUTER SCIENCE |    NCERT     |      CS TEXT BOOK      |  789456  |\n",
            "|    4    |        AI        |    NCERT     | ARTIFICIAL INTELIGENCE |  123456  |\n",
            "+---------+------------------+--------------+------------------------+----------+\n"
          ]
        }
      ]
    },
    {
      "cell_type": "code",
      "source": [],
      "metadata": {
        "id": "YPwoW5iJo6SO"
      },
      "execution_count": null,
      "outputs": []
    }
  ]
}